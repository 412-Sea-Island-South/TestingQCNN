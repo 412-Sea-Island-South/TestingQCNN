{
 "cells": [
  {
   "cell_type": "code",
   "execution_count": 2,
   "id": "e545da0c",
   "metadata": {},
   "outputs": [],
   "source": [
    "import numpy as np\n",
    "# Importing standard Qiskit libraries\n",
    "from qiskit import QuantumCircuit, transpile, Aer, IBMQ\n",
    "from qiskit.tools.jupyter import *\n",
    "from qiskit.visualization import *\n",
    "from ibm_quantum_widgets import *\n",
    "\n",
    "# Loading your IBM Q account(s)\n",
    "provider = IBMQ.load_account()"
   ]
  },
  {
   "cell_type": "code",
   "execution_count": 23,
   "id": "df199701",
   "metadata": {},
   "outputs": [
    {
     "data": {
      "image/png": "[encoded data removed]",
      "text/plain": [
       "<Figure size 989.597x204.68 with 1 Axes>"
      ]
     },
     "execution_count": 23,
     "metadata": {},
     "output_type": "execute_result"
    }
   ],
   "source": [
    "pi = np.pi##Toffoli\n",
    "circuit = QuantumCircuit(3)\n",
    "#H on q2\n",
    "circuit.rz(pi/2, 2)\n",
    "circuit.sx(2)\n",
    "circuit.rz(pi/2, 2)\n",
    "#CNOT on q1, q2\n",
    "circuit.cx(1, 2)\n",
    "#TDG on q2\n",
    "circuit.rz(np.pi/-4, 2)\n",
    "#CNOT on q0, q2\n",
    "circuit.cx(0, 2)\n",
    "#T on q2\n",
    "circuit.rz(np.pi/4, 2)\n",
    "#CNOT on q1, q2\n",
    "circuit.cx(1, 2)\n",
    "#T on q1\n",
    "circuit.rz(np.pi/4, 1)\n",
    "#TDG on q2\n",
    "circuit.rz(np.pi/-4, 2)\n",
    "#CNOT on q0 q2\n",
    "circuit.cx(0, 2)\n",
    "#CNOT on q0 q1\n",
    "circuit.cx(0, 1)\n",
    "#T on q2\n",
    "circuit.rz(np.pi/4, 2)\n",
    "#H on q2\n",
    "circuit.rz(pi/2, 2)\n",
    "circuit.sx(2)\n",
    "circuit.rz(pi/2, 2)\n",
    "#barriers for neatnes\n",
    "circuit.barrier(0)\n",
    "circuit.barrier(1)\n",
    "circuit.barrier(0)\n",
    "circuit.barrier(1)\n",
    "#T on q0\n",
    "circuit.rz(np.pi/4, 0)\n",
    "#TDG on q1\n",
    "circuit.rz(np.pi/-4, 1)\n",
    "#CNOT on q0 q1\n",
    "circuit.cx(0, 1)\n",
    "#AND WE ARE DONE\n",
    "circuit.draw()"
   ]
  },
  {
   "cell_type": "code",
   "execution_count": null,
   "id": "c87a5b55",
   "metadata": {},
   "outputs": [],
   "source": []
  }
 ],
 "metadata": {
  "kernelspec": {
   "display_name": "Python 3",
   "language": "python",
   "name": "python3"
  },
  "language_info": {
   "codemirror_mode": {
    "name": "ipython",
    "version": 3
   },
   "file_extension": ".py",
   "mimetype": "text/x-python",
   "name": "python",
   "nbconvert_exporter": "python",
   "pygments_lexer": "ipython3",
   "version": "3.8.10"
  }
 },
 "nbformat": 4,
 "nbformat_minor": 5
}
